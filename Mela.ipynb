{
 "cells": [
  {
   "cell_type": "markdown",
   "metadata": {
    "id": "FBQocLLMEOkA"
   },
   "source": [
    "# Imports"
   ]
  },
  {
   "cell_type": "code",
   "execution_count": 27,
   "metadata": {
    "execution": {
     "iopub.execute_input": "2022-05-27T06:21:00.075774Z",
     "iopub.status.busy": "2022-05-27T06:21:00.075356Z",
     "iopub.status.idle": "2022-05-27T06:21:12.270703Z",
     "shell.execute_reply": "2022-05-27T06:21:12.269683Z",
     "shell.execute_reply.started": "2022-05-27T06:21:00.075740Z"
    },
    "id": "vYU2bLwBBOA_",
    "outputId": "1c817d42-0ae5-46e3-d1fa-c9134b145420",
    "scrolled": true
   },
   "outputs": [],
   "source": [
    "import numpy as np\n",
    "import pandas as pd\n",
    "import matplotlib.pyplot as plt\n",
    "import seaborn as sb\n",
    "import cv2\n",
    "from PIL import Image\n",
    "import gc\n",
    "\n",
    "import torch\n",
    "from torch import nn\n",
    "from torch import optim\n",
    "import torch.nn.functional as F\n",
    "from torchvision import datasets, transforms, models\n",
    "from torch.utils.data import Dataset\n",
    "from torch.optim.lr_scheduler import ReduceLROnPlateau\n",
    "\n",
    "!pip install torchtoolbox==0.1.4.1\n",
    "import torchtoolbox.transform as transforms\n",
    "from torch.utils.data import Dataset, DataLoader, Subset\n",
    "\n",
    "import time\n",
    "import datetime\n",
    "import random\n",
    "\n",
    "from sklearn.model_selection import StratifiedKFold, GroupKFold, train_test_split\n",
    "from sklearn.metrics import accuracy_score, roc_auc_score, confusion_matrix\n",
    "\n",
    "!pip install efficientnet_pytorch\n",
    "from efficientnet_pytorch import EfficientNet\n",
    "\n",
    "import os \n",
    "\n",
    "import warnings\n",
    "warnings.simplefilter('ignore')"
   ]
  },
  {
   "cell_type": "code",
   "execution_count": 28,
   "metadata": {
    "execution": {
     "iopub.execute_input": "2022-05-27T06:21:12.274596Z",
     "iopub.status.busy": "2022-05-27T06:21:12.274217Z",
     "iopub.status.idle": "2022-05-27T06:21:12.279560Z",
     "shell.execute_reply": "2022-05-27T06:21:12.278602Z",
     "shell.execute_reply.started": "2022-05-27T06:21:12.274545Z"
    },
    "scrolled": true
   },
   "outputs": [],
   "source": [
    "!pip install wandb          #画图工具\n",
    "!wandb login"
   ]
  },
  {
   "cell_type": "code",
   "execution_count": 29,
   "metadata": {
    "execution": {
     "iopub.execute_input": "2022-05-27T06:21:12.282543Z",
     "iopub.status.busy": "2022-05-27T06:21:12.282170Z",
     "iopub.status.idle": "2022-05-27T06:21:12.289136Z",
     "shell.execute_reply": "2022-05-27T06:21:12.288266Z",
     "shell.execute_reply.started": "2022-05-27T06:21:12.282490Z"
    }
   },
   "outputs": [],
   "source": [
    "import wandb\n",
    "\n",
    "wandb.init(project=\"Melanoma\", entity=\"grimm0404\")"
   ]
  },
  {
   "cell_type": "markdown",
   "metadata": {
    "id": "X-i6D7jah5KX"
   },
   "source": [
    "# 设置随机种子"
   ]
  },
  {
   "cell_type": "code",
   "execution_count": 30,
   "metadata": {
    "execution": {
     "iopub.execute_input": "2022-05-27T06:21:12.290632Z",
     "iopub.status.busy": "2022-05-27T06:21:12.290312Z",
     "iopub.status.idle": "2022-05-27T06:21:12.299983Z",
     "shell.execute_reply": "2022-05-27T06:21:12.298944Z",
     "shell.execute_reply.started": "2022-05-27T06:21:12.290603Z"
    },
    "id": "AJZ6Z9puh6By"
   },
   "outputs": [],
   "source": [
    "def seed_everything(seed_value):\n",
    "    np.random.seed(seed_value)\n",
    "    torch.manual_seed(seed_value)\n",
    "    os.environ['PYTHONHASHSEED'] = str(seed_value)\n",
    "    \n",
    "    if torch.cuda.is_available(): \n",
    "        torch.cuda.manual_seed(seed_value)\n",
    "        torch.cuda.manual_seed_all(seed_value)\n",
    "        torch.backends.cudnn.deterministic = True\n",
    "        torch.backends.cudnn.benchmark = True\n",
    "\n",
    "seed = 1234\n",
    "seed_everything(seed)"
   ]
  },
  {
   "cell_type": "markdown",
   "metadata": {
    "id": "EJIdZdAf9rXD"
   },
   "source": [
    "# 选择训练设备"
   ]
  },
  {
   "cell_type": "code",
   "execution_count": 31,
   "metadata": {
    "execution": {
     "iopub.execute_input": "2022-05-27T06:21:12.304456Z",
     "iopub.status.busy": "2022-05-27T06:21:12.304187Z",
     "iopub.status.idle": "2022-05-27T06:21:12.312115Z",
     "shell.execute_reply": "2022-05-27T06:21:12.311190Z",
     "shell.execute_reply.started": "2022-05-27T06:21:12.304423Z"
    },
    "id": "QwoV7i5g9zrI",
    "outputId": "8473f840-069c-45ff-9d1f-483ddb15ee24"
   },
   "outputs": [],
   "source": [
    "device = torch.device(\"cuda\" if torch.cuda.is_available() else \"cpu\")\n",
    "print (device)"
   ]
  },
  {
   "cell_type": "markdown",
   "metadata": {
    "id": "ofellIJSiPc0"
   },
   "source": [
    "## 创建Dataset"
   ]
  },
  {
   "cell_type": "code",
   "execution_count": 32,
   "metadata": {
    "execution": {
     "iopub.execute_input": "2022-05-27T06:21:12.315491Z",
     "iopub.status.busy": "2022-05-27T06:21:12.315082Z",
     "iopub.status.idle": "2022-05-27T06:21:12.325938Z",
     "shell.execute_reply": "2022-05-27T06:21:12.324849Z",
     "shell.execute_reply.started": "2022-05-27T06:21:12.315454Z"
    },
    "id": "LUvAW33pfTnx"
   },
   "outputs": [],
   "source": [
    "class CustomDataset(Dataset):\n",
    "    def __init__(self, df: pd.DataFrame, img_dir, train: bool = True, transforms= None):\n",
    "        self.df = df\n",
    "        self.img_dir = img_dir\n",
    "        self.transforms = transforms\n",
    "        self.train = train\n",
    "\n",
    "    def __getitem__(self, index):\n",
    "        img_path = os.path.join(self.img_dir, self.df.iloc[index]['image_name'] + '.jpg')\n",
    "        images = cv2.imread(img_path)\n",
    "\n",
    "        if self.transforms:\n",
    "            images = self.transforms(images)\n",
    "\n",
    "        if self.train:\n",
    "            labels = self.df.iloc[index]['target']\n",
    "            return torch.tensor(images, dtype=torch.float32), torch.tensor(labels, dtype=torch.float32)\n",
    "\n",
    "        else:\n",
    "            return torch.tensor(images, dtype=torch.float32)\n",
    "\n",
    "    def __len__(self):\n",
    "            return len(self.df)"
   ]
  },
  {
   "cell_type": "code",
   "execution_count": 33,
   "metadata": {
    "execution": {
     "iopub.execute_input": "2022-05-27T06:21:12.328136Z",
     "iopub.status.busy": "2022-05-27T06:21:12.327761Z",
     "iopub.status.idle": "2022-05-27T06:21:12.403713Z",
     "shell.execute_reply": "2022-05-27T06:21:12.402862Z",
     "shell.execute_reply.started": "2022-05-27T06:21:12.328100Z"
    },
    "id": "dchPK1V0BOBN",
    "scrolled": true
   },
   "outputs": [],
   "source": [
    "df = pd.read_csv('/kaggle/input/melanoma-external-malignant-256/train.csv')\n",
    "test_df = pd.read_csv('/kaggle/input/siim-isic-melanoma-classification/test.csv')\n",
    "test_img_dir = '/kaggle/input/melanoma-external-malignant-256/test/test/'\n",
    "train_img_dir = '/kaggle/input/melanoma-external-malignant-256/train/train/'"
   ]
  },
  {
   "cell_type": "code",
   "execution_count": null,
   "metadata": {},
   "outputs": [],
   "source": [
    "test_df.head()       #查看数据"
   ]
  },
  {
   "cell_type": "code",
   "execution_count": 34,
   "metadata": {
    "execution": {
     "iopub.execute_input": "2022-05-27T06:21:12.405677Z",
     "iopub.status.busy": "2022-05-27T06:21:12.405179Z",
     "iopub.status.idle": "2022-05-27T06:21:12.446407Z",
     "shell.execute_reply": "2022-05-27T06:21:12.445484Z",
     "shell.execute_reply.started": "2022-05-27T06:21:12.405638Z"
    }
   },
   "outputs": [],
   "source": [
    "vld_size=0.20\n",
    "\n",
    "train, valid = train_test_split (df, stratify=df.target, test_size = vld_size, random_state=42) \n",
    "\n",
    "train_df=pd.DataFrame(train)\n",
    "validation_df=pd.DataFrame(valid)\n",
    "\n",
    "print(len(validation_df))\n",
    "print(len(train_df))"
   ]
  },
  {
   "cell_type": "markdown",
   "metadata": {},
   "source": [
    "## 数据集划分可视化"
   ]
  },
  {
   "cell_type": "code",
   "execution_count": 35,
   "metadata": {
    "execution": {
     "iopub.execute_input": "2022-05-27T06:21:12.449757Z",
     "iopub.status.busy": "2022-05-27T06:21:12.449483Z",
     "iopub.status.idle": "2022-05-27T06:21:12.740156Z",
     "shell.execute_reply": "2022-05-27T06:21:12.739266Z",
     "shell.execute_reply.started": "2022-05-27T06:21:12.449729Z"
    }
   },
   "outputs": [],
   "source": [
    "fig2 = plt.figure(figsize=(20, 5))\n",
    "ax3 = fig2.add_subplot(1,2,1)\n",
    "ax4 = fig2.add_subplot(1,2,2)\n",
    "\n",
    "counts1 = train_df['target'].value_counts()\n",
    "dx = ['Benign', 'Malignant']\n",
    "ax3.bar(dx, counts1)  \n",
    "ax3.set_title(\"Training Set\")\n",
    "ax3.legend()\n",
    "\n",
    "for i, v in enumerate(counts1):\n",
    "    ax3.text(i-.1, \n",
    "              v/counts1[i]+200, \n",
    "              counts1[i], \n",
    "              fontsize=15,)\n",
    "\n",
    "counts2 = validation_df['target'].value_counts()\n",
    "ax4.bar(dx, counts2)  \n",
    "ax4.set_title(\"Validation Set\")\n",
    "ax4.legend()\n",
    "\n",
    "for i, v in enumerate(counts2):\n",
    "    ax4.text(i-.1, \n",
    "              v/counts2[i]+100, \n",
    "              counts2[i], \n",
    "              fontsize=15)\n",
    "\n",
    "plt.show()  "
   ]
  },
  {
   "cell_type": "markdown",
   "metadata": {},
   "source": [
    "### 数据增强"
   ]
  },
  {
   "cell_type": "code",
   "execution_count": 36,
   "metadata": {
    "execution": {
     "iopub.execute_input": "2022-05-27T06:21:12.741875Z",
     "iopub.status.busy": "2022-05-27T06:21:12.741396Z",
     "iopub.status.idle": "2022-05-27T06:21:12.754504Z",
     "shell.execute_reply": "2022-05-27T06:21:12.753657Z",
     "shell.execute_reply.started": "2022-05-27T06:21:12.741839Z"
    },
    "id": "UzAdvS3EBOBX",
    "scrolled": true
   },
   "outputs": [],
   "source": [
    "training_transforms = transforms.Compose([transforms.RandomRotation(30),\n",
    "                                          transforms.RandomResizedCrop(256, scale=(0.8, 1.0)),\n",
    "                                          transforms.RandomHorizontalFlip(),\n",
    "                                          transforms.RandomVerticalFlip(),\n",
    "                                          transforms.ColorJitter(brightness=32. / 255.,saturation=0.5,hue=0.01),\n",
    "                                          transforms.ToTensor(),\n",
    "                                          transforms.Normalize([0.485, 0.456, 0.406], \n",
    "                                                               [0.229, 0.224, 0.225])])\n",
    "\n",
    "validation_transforms = transforms.Compose([transforms.Resize(256),\n",
    "                                            transforms.CenterCrop(256),\n",
    "                                            transforms.ToTensor(),\n",
    "                                            transforms.Normalize([0.485, 0.456, 0.406], \n",
    "                                                                 [0.229, 0.224, 0.225])])\n",
    "\n",
    "testing_transforms = transforms.Compose([transforms.Resize(256),\n",
    "                                         transforms.CenterCrop(256),\n",
    "                                         transforms.ToTensor(),\n",
    "                                         transforms.Normalize([0.485, 0.456, 0.406], \n",
    "                                                              [0.229, 0.224, 0.225])])"
   ]
  },
  {
   "cell_type": "markdown",
   "metadata": {
    "id": "UJR_kmLtiegA"
   },
   "source": [
    "## Loading Datasets"
   ]
  },
  {
   "cell_type": "code",
   "execution_count": 37,
   "metadata": {
    "execution": {
     "iopub.execute_input": "2022-05-27T06:21:12.756042Z",
     "iopub.status.busy": "2022-05-27T06:21:12.755611Z",
     "iopub.status.idle": "2022-05-27T06:21:12.765717Z",
     "shell.execute_reply": "2022-05-27T06:21:12.764363Z",
     "shell.execute_reply.started": "2022-05-27T06:21:12.755996Z"
    },
    "id": "p9llHQMpmjOv"
   },
   "outputs": [],
   "source": [
    "training_dataset = CustomDataset(df = train_df,\n",
    "                                 img_dir = train_img_dir, \n",
    "                                 train = True,\n",
    "                                 transforms = training_transforms )\n",
    "\n",
    "validation_dataset = CustomDataset(df = validation_df,\n",
    "                                   img_dir = train_img_dir, \n",
    "                                   train = True,\n",
    "                                   transforms = training_transforms )\n",
    "\n",
    "testing_dataset = CustomDataset(df = test_df,\n",
    "                                img_dir = test_img_dir,\n",
    "                                train= False, \n",
    "                                transforms = testing_transforms )"
   ]
  },
  {
   "cell_type": "code",
   "execution_count": 38,
   "metadata": {
    "execution": {
     "iopub.execute_input": "2022-05-27T06:21:12.768155Z",
     "iopub.status.busy": "2022-05-27T06:21:12.767675Z",
     "iopub.status.idle": "2022-05-27T06:21:12.784446Z",
     "shell.execute_reply": "2022-05-27T06:21:12.780375Z",
     "shell.execute_reply.started": "2022-05-27T06:21:12.768103Z"
    },
    "id": "EaNxLBcTi3bw"
   },
   "outputs": [],
   "source": [
    "train_loader = torch.utils.data.DataLoader(training_dataset, batch_size=32, num_workers=4, shuffle=True)\n",
    "validate_loader = torch.utils.data.DataLoader(validation_dataset, batch_size=16, shuffle = False)\n",
    "test_loader = torch.utils.data.DataLoader(testing_dataset, batch_size=16, shuffle = False)"
   ]
  },
  {
   "cell_type": "code",
   "execution_count": null,
   "metadata": {},
   "outputs": [],
   "source": [
    "#打印部分数据增强后的数据，看看效果\n",
    "cnt = 0\n",
    "for imgs, labels in train_loader:\n",
    "  if (cnt>=6):\n",
    "    break\n",
    "  img = imgs[0]\n",
    "  img = np.transpose(img, (1, 2, 0))\n",
    "  plt.imshow(img.numpy())\n",
    "  plt.show()\n",
    "  cnt += 1"
   ]
  },
  {
   "cell_type": "code",
   "execution_count": 39,
   "metadata": {
    "execution": {
     "iopub.execute_input": "2022-05-27T06:21:12.787072Z",
     "iopub.status.busy": "2022-05-27T06:21:12.786151Z",
     "iopub.status.idle": "2022-05-27T06:21:12.795403Z",
     "shell.execute_reply": "2022-05-27T06:21:12.793457Z",
     "shell.execute_reply.started": "2022-05-27T06:21:12.786942Z"
    },
    "id": "e360v3HeBOBf",
    "outputId": "84d22231-3021-460f-c8b9-bebe46bf6345"
   },
   "outputs": [],
   "source": [
    "print(len(train_loader))\n",
    "print(len(validate_loader))\n",
    "print(len(test_loader))"
   ]
  },
  {
   "cell_type": "markdown",
   "metadata": {
    "id": "wtE-5PEhBOBv"
   },
   "source": [
    "# 创建Model"
   ]
  },
  {
   "cell_type": "markdown",
   "metadata": {},
   "source": [
    "**适用于efficientnet-b2**"
   ]
  },
  {
   "cell_type": "code",
   "execution_count": 40,
   "metadata": {
    "execution": {
     "iopub.execute_input": "2022-05-27T06:21:12.799233Z",
     "iopub.status.busy": "2022-05-27T06:21:12.798062Z",
     "iopub.status.idle": "2022-05-27T06:21:12.812694Z",
     "shell.execute_reply": "2022-05-27T06:21:12.811474Z",
     "shell.execute_reply.started": "2022-05-27T06:21:12.799198Z"
    }
   },
   "outputs": [],
   "source": [
    "class Net(nn.Module):\n",
    "    def __init__(self, arch):\n",
    "        super(Net, self).__init__()\n",
    "        self.arch = arch\n",
    "        if 'fgdf' in str(arch.__class__):\n",
    "            self.arch.fc = nn.Linear(in_features=1280, out_features=500, bias=True)\n",
    "        if 'EfficientNet' in str(arch.__class__):   \n",
    "            self.arch._fc = nn.Linear(in_features=1408, out_features=500, bias=True)\n",
    "            \n",
    "        self.ouput = nn.Linear(500, 1)\n",
    "        \n",
    "    def forward(self, images):\n",
    "        x = images\n",
    "        features = self.arch(x)\n",
    "        output = self.ouput(features)\n",
    "        \n",
    "        return output"
   ]
  },
  {
   "cell_type": "markdown",
   "metadata": {},
   "source": [
    "**适用于efficientnet-b3**"
   ]
  },
  {
   "cell_type": "code",
   "execution_count": 41,
   "metadata": {
    "execution": {
     "iopub.execute_input": "2022-05-27T06:21:12.814688Z",
     "iopub.status.busy": "2022-05-27T06:21:12.814125Z",
     "iopub.status.idle": "2022-05-27T06:21:12.825550Z",
     "shell.execute_reply": "2022-05-27T06:21:12.824607Z",
     "shell.execute_reply.started": "2022-05-27T06:21:12.814652Z"
    }
   },
   "outputs": [],
   "source": [
    "# class Model(nn.Module):\n",
    "#     def __init__(self):\n",
    "#         super(Model, self).__init__()\n",
    "#         #加载预训练模型\n",
    "#         self.resnetmodel = EfficientNet.from_pretrained('efficientnet-b3')\n",
    "        \n",
    "#         self.fc = nn.Sequential(nn.Linear(1000, 512), nn.ReLU(),\n",
    "#                                   nn.Linear(512, 1))\n",
    "# #                                 , nn.Sigmoid())\n",
    "        \n",
    "#     def forward(self, x):\n",
    "#         x = self.resnetmodel(x)\n",
    "#         return self.fc(x)"
   ]
  },
  {
   "cell_type": "markdown",
   "metadata": {},
   "source": [
    "# **选择预训练模型**"
   ]
  },
  {
   "cell_type": "code",
   "execution_count": 42,
   "metadata": {
    "execution": {
     "iopub.execute_input": "2022-05-27T06:21:12.829922Z",
     "iopub.status.busy": "2022-05-27T06:21:12.828836Z",
     "iopub.status.idle": "2022-05-27T06:21:13.175559Z",
     "shell.execute_reply": "2022-05-27T06:21:13.174721Z",
     "shell.execute_reply.started": "2022-05-27T06:21:12.829876Z"
    }
   },
   "outputs": [],
   "source": [
    "# import torchvision.models as models\n",
    "arch = EfficientNet.from_pretrained('efficientnet-b2')\n",
    "# arch = EfficientNet.from_pretrained('efficientnet-b3')\n",
    "model = Net(arch=arch) \n",
    "# model = Model()\n",
    "# model = models.resnet152(pretrained=True)\n",
    "model = model.to(device)"
   ]
  },
  {
   "cell_type": "markdown",
   "metadata": {
    "id": "nxXejLkPTJdz"
   },
   "source": [
    "# Hyperparameters"
   ]
  },
  {
   "cell_type": "code",
   "execution_count": 43,
   "metadata": {
    "execution": {
     "iopub.execute_input": "2022-05-27T06:21:13.182317Z",
     "iopub.status.busy": "2022-05-27T06:21:13.179944Z",
     "iopub.status.idle": "2022-05-27T06:21:13.197715Z",
     "shell.execute_reply": "2022-05-27T06:21:13.195732Z",
     "shell.execute_reply.started": "2022-05-27T06:21:13.182271Z"
    },
    "id": "FbgDZOZjBOCG",
    "scrolled": true
   },
   "outputs": [],
   "source": [
    "best_val = 0\n",
    "\n",
    "# 保存模型\n",
    "model_path = f'melanoma_model_{best_val}.pth'  \n",
    "\n",
    "epochs = 10\n",
    "\n",
    "# 如果准确度没有变化则提前停止训练\n",
    "es_patience = 3\n",
    "\n",
    "criterion = nn.BCEWithLogitsLoss()\n",
    "# criterion = nn.CrossEntropyLoss()\n",
    "\n",
    "optimizer = optim.Adam(model.parameters(), lr=0.0005) \n",
    "\n",
    "# 当patience个epoch过去而模型性能不提升时，学习率减少的动作会被触发\n",
    "scheduler = ReduceLROnPlateau(optimizer=optimizer, mode='max', patience=3, verbose=True, factor=0.2)"
   ]
  },
  {
   "cell_type": "markdown",
   "metadata": {},
   "source": [
    "# Trainning the Model"
   ]
  },
  {
   "cell_type": "code",
   "execution_count": 44,
   "metadata": {
    "execution": {
     "iopub.execute_input": "2022-05-27T06:21:13.200075Z",
     "iopub.status.busy": "2022-05-27T06:21:13.199628Z",
     "iopub.status.idle": "2022-05-27T07:29:34.758437Z",
     "shell.execute_reply": "2022-05-27T07:29:34.757642Z",
     "shell.execute_reply.started": "2022-05-27T06:21:13.200020Z"
    },
    "id": "34YYRItSBOCU",
    "outputId": "331ab0b5-6baa-4471-9259-be514e7e8e9e"
   },
   "outputs": [],
   "source": [
    "loss_history=[]  \n",
    "train_acc_history=[]  \n",
    "val_loss_history=[]  \n",
    "val_acc_history=[] \n",
    "val_auc_history=[]\n",
    "\n",
    "patience = es_patience\n",
    "Total_start_time = time.time()  \n",
    "model.to(device)\n",
    "\n",
    "for e in range(epochs):\n",
    "    \n",
    "    start_time = time.time()\n",
    "    correct = 0\n",
    "    running_loss = 0\n",
    "    model.train()\n",
    "    \n",
    "    for images, labels in train_loader:\n",
    "        \n",
    "        images, labels = images.to(device), labels.to(device)\n",
    "        \n",
    "        optimizer.zero_grad()\n",
    "        \n",
    "        output = model(images) \n",
    "        loss = criterion(output, labels.view(-1,1))\n",
    "        loss.backward()\n",
    "        optimizer.step()\n",
    "        \n",
    "        # Training loss\n",
    "        running_loss += loss.item()\n",
    "        \n",
    "        train_preds = torch.round(torch.sigmoid(output))\n",
    "            \n",
    "        correct += (train_preds.cpu() == labels.cpu().unsqueeze(1)).sum().item()\n",
    "                        \n",
    "    train_acc = correct / len(train_df)\n",
    "               \n",
    "    model.eval()\n",
    "    preds=[]            \n",
    "\n",
    "    with torch.no_grad():\n",
    "        \n",
    "        val_loss = 0\n",
    "        val_correct = 0\n",
    "    \n",
    "        for val_images, val_labels in validate_loader:\n",
    "        \n",
    "            val_images, val_labels = val_images.to(device), val_labels.to(device)\n",
    "        \n",
    "            val_output = model(val_images)\n",
    "            val_loss += (criterion(val_output, val_labels.view(-1,1))).item() \n",
    "            val_pred = torch.sigmoid(val_output)\n",
    "            \n",
    "            preds.append(val_pred.cpu())\n",
    "        pred=np.vstack(preds).ravel()\n",
    "           \n",
    "#         val_accuracy = accuracy_score(train_df['target'].values, torch.round(pred2))\n",
    "        val_auc_score = roc_auc_score(validation_df['target'].values, pred)\n",
    "    \n",
    "        #计算训练一个epoch所需要的时间    \n",
    "        training_time = str(datetime.timedelta(seconds=time.time() - start_time))[:7]\n",
    "        \n",
    "        #打印每次迭代的loss和acc    \n",
    "        print(\"Epoch: {}/{}.. \".format(e+1, epochs),\n",
    "              \n",
    "              #将每个epoch的loss和accuracy打印出来并在云端画图软件上记录\n",
    "              \"Training Loss: {:.3f}\".format(running_loss/len(train_loader)),\n",
    "              wandb.log({\"train_loss\": running_loss/len(train_loader)}),\n",
    "              \n",
    "              \"Training Accuracy: {:.3f}\".format(train_acc),\n",
    "              wandb.log({\"train_acc\": train_acc}),\n",
    "              \n",
    "              \"Validation Loss: {:.3f}\".format(val_loss/len(validate_loader)),\n",
    "              wandb.log({\"val_loss\": val_loss/len(validate_loader)}),\n",
    "              \n",
    "#               \"Validation Accuracy: {:.3f}\".format(val_accuracy),\n",
    "#               wandb.log({\"val_acc\": val_accuracy}),\n",
    "              \n",
    "              \"Validation AUC Score: {:.3f}\".format(val_auc_score),\n",
    "              wandb.log({\"val_auc_score\": val_auc_score}),\n",
    "              \"Training Time: {}\".format( training_time))\n",
    "            \n",
    "          \n",
    "        scheduler.step(val_auc_score)\n",
    "                \n",
    "        if val_auc_score >= best_val:\n",
    "            best_val = val_auc_score\n",
    "            patience = es_patience         #如果准确度提升了就更新\n",
    "            torch.save(model, model_path)  # 保存最好的模型\n",
    "        else:\n",
    "            patience -= 1\n",
    "            if patience == 0:\n",
    "                print('Early stopping. Best Val roc_auc: {:.3f}'.format(best_val))\n",
    "                break\n",
    "        \n",
    "    loss_history.append(running_loss)  \n",
    "    train_acc_history.append(train_acc)    \n",
    "    val_loss_history.append(val_loss)  \n",
    "    #val_acc_history.append(val_accuracy)\n",
    "    val_auc_history.append(val_auc_score) \n",
    "\n",
    "#计算总训练总时长\n",
    "total_training_time = str(datetime.timedelta(seconds=time.time() - Total_start_time  ))[:7]                  \n",
    "print(\"Total Training Time: {}\".format(total_training_time))     "
   ]
  },
  {
   "cell_type": "markdown",
   "metadata": {},
   "source": [
    "# 画图（losses and accuracies）"
   ]
  },
  {
   "cell_type": "code",
   "execution_count": 45,
   "metadata": {
    "execution": {
     "iopub.execute_input": "2022-05-27T07:29:34.761803Z",
     "iopub.status.busy": "2022-05-27T07:29:34.761254Z",
     "iopub.status.idle": "2022-05-27T07:29:35.221163Z",
     "shell.execute_reply": "2022-05-27T07:29:35.220065Z",
     "shell.execute_reply.started": "2022-05-27T07:29:34.761757Z"
    }
   },
   "outputs": [],
   "source": [
    "# 画出当前模型的loss和accuracy折线变化图\n",
    "fig = plt.figure(figsize=(20, 5))\n",
    "ax1 = fig.add_subplot(1,2,1)\n",
    "ax2 = fig.add_subplot(1,2,2)\n",
    "\n",
    "ax1.plot(loss_history, label= 'Training Loss')  \n",
    "ax1.plot(val_loss_history,label='Validation Loss')\n",
    "ax1.set_title(\"Losses\")\n",
    "ax1.set_xlabel('Epochs')\n",
    "ax1.set_ylabel('Loss')\n",
    "ax1.legend()\n",
    "\n",
    "ax2.plot(train_acc_history,label='Training accuracy')  \n",
    "#ax2.plot(val_acc_history,label='Validation accuracy')\n",
    "ax2.plot(val_auc_history,label='Validation AUC Score')\n",
    "ax2.set_title(\"Accuracies\")\n",
    "ax2.set_xlabel('Epochs')\n",
    "ax2.set_ylabel('Accuracy')\n",
    "ax2.legend()\n",
    "\n",
    "plt.savefig('d01.jpg')\n",
    "plt.show()  "
   ]
  },
  {
   "cell_type": "code",
   "execution_count": 46,
   "metadata": {
    "execution": {
     "iopub.execute_input": "2022-05-27T07:29:35.223247Z",
     "iopub.status.busy": "2022-05-27T07:29:35.222780Z",
     "iopub.status.idle": "2022-05-27T07:29:35.429491Z",
     "shell.execute_reply": "2022-05-27T07:29:35.428549Z",
     "shell.execute_reply.started": "2022-05-27T07:29:35.223199Z"
    }
   },
   "outputs": [],
   "source": [
    "#删除多余的变量、清理缓存\n",
    "del training_dataset, validation_dataset, train_loader, validate_loader, images, val_images, val_labels \n",
    "gc.collect()"
   ]
  },
  {
   "cell_type": "markdown",
   "metadata": {
    "id": "tnqLx-40BOCg"
   },
   "source": [
    "# Testing"
   ]
  },
  {
   "cell_type": "code",
   "execution_count": 47,
   "metadata": {
    "execution": {
     "iopub.execute_input": "2022-05-27T07:29:35.431698Z",
     "iopub.status.busy": "2022-05-27T07:29:35.431044Z",
     "iopub.status.idle": "2022-05-27T07:29:35.439444Z",
     "shell.execute_reply": "2022-05-27T07:29:35.438561Z",
     "shell.execute_reply.started": "2022-05-27T07:29:35.431648Z"
    }
   },
   "outputs": [],
   "source": [
    "test_df['target']= np.zeros((len(test_df), 1))"
   ]
  },
  {
   "cell_type": "code",
   "execution_count": 48,
   "metadata": {
    "execution": {
     "iopub.execute_input": "2022-05-27T07:29:35.441607Z",
     "iopub.status.busy": "2022-05-27T07:29:35.441001Z",
     "iopub.status.idle": "2022-05-27T07:29:35.451415Z",
     "shell.execute_reply": "2022-05-27T07:29:35.450590Z",
     "shell.execute_reply.started": "2022-05-27T07:29:35.441565Z"
    }
   },
   "outputs": [],
   "source": [
    "test_labels = torch.tensor(test_df['target'], dtype=torch.float32)"
   ]
  },
  {
   "cell_type": "code",
   "execution_count": 49,
   "metadata": {
    "execution": {
     "iopub.execute_input": "2022-05-27T07:29:35.454143Z",
     "iopub.status.busy": "2022-05-27T07:29:35.453248Z",
     "iopub.status.idle": "2022-05-27T07:31:10.978417Z",
     "shell.execute_reply": "2022-05-27T07:31:10.977520Z",
     "shell.execute_reply.started": "2022-05-27T07:29:35.454102Z"
    },
    "id": "l8ox_qGkBOCh",
    "scrolled": true
   },
   "outputs": [],
   "source": [
    "model = torch.load(model_path)\n",
    "model.eval()\n",
    "model.to(device)\n",
    "test_preds=[]\n",
    "with torch.no_grad():\n",
    "    \n",
    "    for f, (test_images) in enumerate(test_loader):\n",
    "        \n",
    "        test_images, test_labels = test_images.to(device), test_labels.to(device)\n",
    "        \n",
    "        test_output = model(test_images)\n",
    "        test_pred = torch.sigmoid(test_output)\n",
    "            \n",
    "        test_preds.append(test_pred.cpu())\n",
    "        \n",
    "    test_pred=np.vstack(test_preds).ravel()\n",
    "    test_pred2 = torch.tensor(test_pred)\n",
    "    test_accuracy = accuracy_score(test_labels.cpu(), torch.round(test_pred2))\n",
    "      \n",
    "print(\"Test Accuracy: {}\".format(test_accuracy))    "
   ]
  },
  {
   "cell_type": "code",
   "execution_count": 50,
   "metadata": {
    "execution": {
     "iopub.execute_input": "2022-05-27T07:31:10.980464Z",
     "iopub.status.busy": "2022-05-27T07:31:10.979852Z",
     "iopub.status.idle": "2022-05-27T07:31:11.035864Z",
     "shell.execute_reply": "2022-05-27T07:31:11.035124Z",
     "shell.execute_reply.started": "2022-05-27T07:31:10.980424Z"
    }
   },
   "outputs": [],
   "source": [
    "#读取数据集里的sample_submission文件取出target作为test_pred\n",
    "sub = pd.read_csv('/kaggle/input/siim-isic-melanoma-classification/sample_submission.csv')\n",
    "sub.loc[:, \"target\"] = test_pred\n",
    "sub.to_csv('submission.csv', index=False)"
   ]
  },
  {
   "cell_type": "code",
   "execution_count": 51,
   "metadata": {
    "execution": {
     "iopub.execute_input": "2022-05-27T07:31:11.038517Z",
     "iopub.status.busy": "2022-05-27T07:31:11.037957Z",
     "iopub.status.idle": "2022-05-27T07:31:11.048920Z",
     "shell.execute_reply": "2022-05-27T07:31:11.048085Z",
     "shell.execute_reply.started": "2022-05-27T07:31:11.038476Z"
    },
    "id": "7VlLkC4RBOC4",
    "scrolled": true
   },
   "outputs": [],
   "source": [
    "def process_image(image_path):\n",
    "    \n",
    "    pil_image = Image.open(image_path)\n",
    "    \n",
    "    # Resize\n",
    "    if pil_image.size[0] > pil_image.size[1]:\n",
    "        pil_image.thumbnail((5000, 256))\n",
    "    else:\n",
    "        pil_image.thumbnail((256, 5000))\n",
    "        \n",
    "    # Crop \n",
    "    left_margin = (pil_image.width-256)/2\n",
    "    bottom_margin = (pil_image.height-256)/2\n",
    "    right_margin = left_margin + 256\n",
    "    top_margin = bottom_margin + 256\n",
    "    \n",
    "    pil_image = pil_image.crop((left_margin, bottom_margin, right_margin, top_margin))\n",
    "    \n",
    "    # Normalize\n",
    "    np_image = np.array(pil_image)/255\n",
    "    mean = np.array([0.485, 0.456, 0.406])\n",
    "    std = np.array([0.229, 0.224, 0.225])\n",
    "    np_image = (np_image - mean) / std\n",
    "  \n",
    "    # 转换channel\n",
    "    np_image = np_image.transpose((2, 0, 1))\n",
    "    \n",
    "    return np_image"
   ]
  },
  {
   "cell_type": "markdown",
   "metadata": {
    "id": "5dS38R6wBODJ",
    "tags": []
   },
   "source": [
    "# Confusion Matrix"
   ]
  },
  {
   "cell_type": "code",
   "execution_count": 52,
   "metadata": {
    "execution": {
     "iopub.execute_input": "2022-05-27T07:31:11.051588Z",
     "iopub.status.busy": "2022-05-27T07:31:11.050606Z",
     "iopub.status.idle": "2022-05-27T07:31:11.289348Z",
     "shell.execute_reply": "2022-05-27T07:31:11.288395Z",
     "shell.execute_reply.started": "2022-05-27T07:31:11.051556Z"
    }
   },
   "outputs": [],
   "source": [
    "test = test_df['target']= np.zeros((len(test_df), 1))\n",
    "pred = np.round(test_pred)\n",
    "cm = confusion_matrix(test, pred)\n",
    "\n",
    "cm_df = pd.DataFrame(cm,\n",
    "                     index = ['Benign','Malignant'], \n",
    "                     columns = ['Benign','Malignant'])\n",
    "\n",
    "plt.figure(figsize=(5.5,4))\n",
    "sb.heatmap(cm_df, annot=True)\n",
    "plt.title('Confusion Matrix \\nAccuracy:{0:.3f}'.format(test_accuracy))\n",
    "plt.ylabel('True label')\n",
    "plt.xlabel('Predicted label')\n",
    "\n",
    "plt.savefig('Confusion Matrix01.jpg')\n",
    "plt.show()"
   ]
  },
  {
   "cell_type": "markdown",
   "metadata": {},
   "source": [
    "# 查全率、查准率、F1"
   ]
  },
  {
   "cell_type": "code",
   "execution_count": null,
   "metadata": {},
   "outputs": [],
   "source": [
    "target_acc = []\n",
    "for i in df['target']:\n",
    "    if i == 1:\n",
    "        target_acc.append(i)\n",
    "print(len(target_acc))\n",
    "\n",
    "predict_acc = []\n",
    "    predict_acc.append(test_pred2)\n",
    "print(len(predict_acc))\n",
    "    \n",
    "recall = train_acc / len(target_acc)\n",
    "print('recall: ' + recall)\n",
    "\n",
    "precision = train_acc / len(predict_acc)\n",
    "print('precision' + precision)\n",
    "\n",
    "F1 = 2 * recall * precision / (recall + precision)\n",
    "print('F1' + F1)"
   ]
  },
  {
   "cell_type": "markdown",
   "metadata": {
    "tags": []
   },
   "source": [
    "# **测试：输入一张图片判断类别（melanoma or benign）**"
   ]
  },
  {
   "cell_type": "code",
   "execution_count": 53,
   "metadata": {
    "execution": {
     "iopub.execute_input": "2022-05-27T07:31:11.291798Z",
     "iopub.status.busy": "2022-05-27T07:31:11.291388Z",
     "iopub.status.idle": "2022-05-27T07:31:11.828714Z",
     "shell.execute_reply": "2022-05-27T07:31:11.827812Z",
     "shell.execute_reply.started": "2022-05-27T07:31:11.291755Z"
    },
    "id": "gnR_JjzSBODE"
   },
   "outputs": [],
   "source": [
    "def predict(image_path, model, topk=1): \n",
    "    image = process_image(image_path)\n",
    "    \n",
    "    # 将图片转换成tensor\n",
    "    image = torch.from_numpy(image).type(torch.cuda.FloatTensor)\n",
    "    #print(image.shape)\n",
    "    #print(type(image))\n",
    "    \n",
    "    image = image.unsqueeze(0)\n",
    "    \n",
    "    output = model(image)\n",
    "    \n",
    "    probabilities = torch.sigmoid(output)\n",
    "    \n",
    "    top_probabilities, top_indices = probabilities.topk(topk)\n",
    "    top_probabilities = top_probabilities.detach().type(torch.FloatTensor).numpy().tolist()[0] \n",
    "    top_indices = top_indices.detach().type(torch.FloatTensor).numpy().tolist()[0] \n",
    "    top_classes = []\n",
    "    \n",
    "#     设置阈值判断图片类别\n",
    "    if probabilities > 0.5 :\n",
    "        top_classes.append(\"Melanoma\")\n",
    "    else:\n",
    "        top_classes.append(\"Benign\")\n",
    "   \n",
    "    return top_probabilities, top_classes\n",
    "\n",
    "predict_image_path='../input/siim-isic-melanoma-classification/jpeg/train/ISIC_0502582.jpg'\n",
    "#predict_image_path='../input/siim-isic-melanoma-classification/jpeg/test/ISIC_0074618.jpg'\n",
    "\n",
    "probs, classes = predict(predict_image_path, model)   \n",
    "print(probs)\n",
    "print(classes)"
   ]
  },
  {
   "cell_type": "code",
   "execution_count": 57,
   "metadata": {
    "execution": {
     "iopub.execute_input": "2022-05-27T07:44:27.229858Z",
     "iopub.status.busy": "2022-05-27T07:44:27.229536Z",
     "iopub.status.idle": "2022-05-27T07:44:27.438022Z",
     "shell.execute_reply": "2022-05-27T07:44:27.437141Z",
     "shell.execute_reply.started": "2022-05-27T07:44:27.229828Z"
    }
   },
   "outputs": [],
   "source": [
    "def imshow(image, ax=None, title=None):\n",
    "    if ax is None:\n",
    "        fig, ax = plt.subplots()\n",
    "    \n",
    "    # 把channel换到最后一个\n",
    "    image = image.transpose((1, 2, 0))\n",
    "\n",
    "    mean = np.array([0.485, 0.456, 0.406])\n",
    "    std = np.array([0.229, 0.224, 0.225])\n",
    "    image = std * image + mean\n",
    "    \n",
    "    if title is not None:\n",
    "        ax.set_title(title)\n",
    "    \n",
    "    # 裁剪到0，1之间不然看上去像是噪点\n",
    "    image = np.clip(image, 0, 1)\n",
    "    \n",
    "    ax.imshow(image)\n",
    "    \n",
    "    return ax\n",
    "\n",
    "image = process_image(predict_image_path)\n",
    "imshow(image)"
   ]
  },
  {
   "cell_type": "code",
   "execution_count": 58,
   "metadata": {
    "execution": {
     "iopub.execute_input": "2022-05-27T07:44:28.839462Z",
     "iopub.status.busy": "2022-05-27T07:44:28.839120Z",
     "iopub.status.idle": "2022-05-27T07:44:29.070191Z",
     "shell.execute_reply": "2022-05-27T07:44:29.069165Z",
     "shell.execute_reply.started": "2022-05-27T07:44:28.839432Z"
    },
    "id": "KO7XaIeiBODL"
   },
   "outputs": [],
   "source": [
    "# 画图查看预测结果\n",
    "plt.figure(figsize = (6,10))\n",
    "plot_1 = plt.subplot(2,1,1)\n",
    "\n",
    "image = process_image(predict_image_path)\n",
    "\n",
    "imshow(image, plot_1)\n",
    "font = {\"color\": 'g'} if 'Benign' in classes else {\"color\": 'r'}\n",
    "plot_1.set_title(\"Diagnosis: {}\".format(classes), fontdict=font);"
   ]
  },
  {
   "cell_type": "code",
   "execution_count": null,
   "metadata": {},
   "outputs": [],
   "source": []
  }
 ],
 "metadata": {
  "kernelspec": {
   "display_name": "Python 3 (ipykernel)",
   "language": "python",
   "name": "python3"
  },
  "language_info": {
   "codemirror_mode": {
    "name": "ipython",
    "version": 3
   },
   "file_extension": ".py",
   "mimetype": "text/x-python",
   "name": "python",
   "nbconvert_exporter": "python",
   "pygments_lexer": "ipython3",
   "version": "3.9.11"
  }
 },
 "nbformat": 4,
 "nbformat_minor": 4
}
